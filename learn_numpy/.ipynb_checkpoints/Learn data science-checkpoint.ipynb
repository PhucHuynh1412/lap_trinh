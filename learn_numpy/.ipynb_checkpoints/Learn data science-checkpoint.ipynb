{
 "cells": [
  {
   "cell_type": "code",
   "execution_count": 4,
   "id": "d50b4735",
   "metadata": {},
   "outputs": [],
   "source": [
    "import numpy as np\n",
    "\n",
    "arr_1 = np.arange(10)\n",
    "print(arr_1)"
   ]
  },
  {
   "cell_type": "code",
   "execution_count": 10,
   "id": "bce6d81f",
   "metadata": {},
   "outputs": [],
   "source": [
    "maTran = np.arange(10).reshape((2,5))\n",
    "print(maTran)"
   ]
  },
  {
   "cell_type": "code",
   "execution_count": 13,
   "id": "79646381",
   "metadata": {},
   "outputs": [],
   "source": [
    "maTran_nghich_dao = maTran.T\n",
    "print(maTran_nghich_dao)"
   ]
  },
  {
   "cell_type": "code",
   "execution_count": null,
   "id": "615c5e4c",
   "metadata": {},
   "outputs": [],
   "source": []
  },
  {
   "cell_type": "markdown",
   "id": "9dcc96dd",
   "metadata": {},
   "source": []
  }
 ],
 "metadata": {
  "kernelspec": {
   "display_name": "Python 3 (ipykernel)",
   "language": "python",
   "name": "python3"
  },
  "language_info": {
   "codemirror_mode": {
    "name": "ipython",
    "version": 3
   },
   "file_extension": ".py",
   "mimetype": "text/x-python",
   "name": "python",
   "nbconvert_exporter": "python",
   "pygments_lexer": "ipython3",
   "version": "3.9.2"
  }
 },
 "nbformat": 4,
 "nbformat_minor": 5
}
