{
 "cells": [
  {
   "cell_type": "code",
   "execution_count": 2,
   "id": "67799628",
   "metadata": {},
   "outputs": [],
   "source": [
    "import sympy as sp\n",
    "from sympy import *"
   ]
  },
  {
   "cell_type": "code",
   "execution_count": 5,
   "id": "f06c80f8",
   "metadata": {},
   "outputs": [],
   "source": [
    "x = symbols('x')"
   ]
  },
  {
   "cell_type": "code",
   "execution_count": 7,
   "id": "f1002592",
   "metadata": {},
   "outputs": [
    {
     "data": {
      "text/latex": [
       "$\\displaystyle x^{2} - 2 x + 3$"
      ],
      "text/plain": [
       "x**2 - 2*x + 3"
      ]
     },
     "execution_count": 7,
     "metadata": {},
     "output_type": "execute_result"
    }
   ],
   "source": [
    "y = x**2 - 2*x + 3\n",
    "y"
   ]
  },
  {
   "cell_type": "code",
   "execution_count": 9,
   "id": "57eebfeb",
   "metadata": {},
   "outputs": [
    {
     "ename": "TypeError",
     "evalue": "'Equality' object is not iterable",
     "output_type": "error",
     "traceback": [
      "\u001b[0;31m---------------------------------------------------------------------------\u001b[0m",
      "\u001b[0;31mTypeError\u001b[0m                                 Traceback (most recent call last)",
      "Cell \u001b[0;32mIn[9], line 4\u001b[0m\n\u001b[1;32m      2\u001b[0m solution \u001b[38;5;241m=\u001b[39m Eq(y, \u001b[38;5;241m0\u001b[39m)\n\u001b[1;32m      3\u001b[0m rs \u001b[38;5;241m=\u001b[39m solve(solution, x)\n\u001b[0;32m----> 4\u001b[0m \u001b[38;5;28;01mfor\u001b[39;00m item \u001b[38;5;129;01min\u001b[39;00m solution:\n\u001b[1;32m      5\u001b[0m     \u001b[38;5;28mprint\u001b[39m(item)\n",
      "\u001b[0;31mTypeError\u001b[0m: 'Equality' object is not iterable"
     ]
    }
   ],
   "source": [
    "from sympy import Eq\n",
    "solution = Eq(y, 0)\n",
    "rs = solve(solution, x)\n",
    "for item in solution:\n",
    "    print(item)\n",
    "    "
   ]
  },
  {
   "cell_type": "code",
   "execution_count": null,
   "id": "4224ab00",
   "metadata": {},
   "outputs": [],
   "source": []
  }
 ],
 "metadata": {
  "kernelspec": {
   "display_name": "Python 3 (ipykernel)",
   "language": "python",
   "name": "python3"
  },
  "language_info": {
   "codemirror_mode": {
    "name": "ipython",
    "version": 3
   },
   "file_extension": ".py",
   "mimetype": "text/x-python",
   "name": "python",
   "nbconvert_exporter": "python",
   "pygments_lexer": "ipython3",
   "version": "3.10.6"
  }
 },
 "nbformat": 4,
 "nbformat_minor": 5
}
